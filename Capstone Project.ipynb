{
 "cells": [
  {
   "cell_type": "markdown",
   "id": "6749fed1-1ca3-4aee-9b10-3f18d93c5263",
   "metadata": {},
   "source": [
    "# Project Overview\n",
    "\n",
    "## Objective\n",
    "\n",
    "Develop an advanced sentiment analysis model to classify and analyze sentiments expressed in financial tweets. This model will leverage state-of-the-art NLP techniques to provide actionable insights into market sentiments.\n",
    "\n",
    "![Alt text](images/logo.png)\n",
    "\n",
    "Key Points\n",
    "- Dataset: The dataset consists of tweets related to financial news, each labeled with a sentiment class (bullish, bearish, neutral).\n",
    "- Goal: Utilize the labeled tweets to fine-tune a pre-trained language model capable of accurate sentiment analysis.Extract and visualize sentiment trends in financial tweets to provide insights for financial analysts\n",
    "- Methodology:\n",
    "  - Load and preprocess the dataset, including cleaning and handling imbalanced datasets.\n",
    "  - Apply parameter-efficient fine-tuning using the Hugging Face peft library\n",
    "  - Evaluate and compare the performance of the fine-tuned model against the baseline\n",
    "\n",
    "By structuring the project with this approach, we ensure clarity and focus on the main objective, while systematically detailing the supporting information and methodology."
   ]
  },
  {
   "cell_type": "markdown",
   "id": "a103279f-9ac5-413f-9023-8cae586fc098",
   "metadata": {},
   "source": [
    "### Imports"
   ]
  },
  {
   "cell_type": "code",
   "execution_count": 2,
   "id": "a4faaa03-b095-4822-b731-80b14447b5b8",
   "metadata": {},
   "outputs": [
    {
     "name": "stderr",
     "output_type": "stream",
     "text": [
      "C:\\Python310\\lib\\site-packages\\tqdm\\auto.py:21: TqdmWarning: IProgress not found. Please update jupyter and ipywidgets. See https://ipywidgets.readthedocs.io/en/stable/user_install.html\n",
      "  from .autonotebook import tqdm as notebook_tqdm\n"
     ]
    },
    {
     "name": "stdout",
     "output_type": "stream",
     "text": [
      "Is CUDA available:  True\n",
      "CUDA device count:  1\n"
     ]
    }
   ],
   "source": [
    "import torch\n",
    "from torch import nn\n",
    "import torchvision.datasets as datasets\n",
    "import torchvision.transforms as transforms\n",
    "import torchvision.models as models\n",
    "import torch.nn.functional as F\n",
    "import torchvision.models as models\n",
    "\n",
    "import numpy as np\n",
    "import pandas as pd\n",
    "import matplotlib.pyplot as plt\n",
    "from matplotlib.ticker import FuncFormatter\n",
    "import re\n",
    "\n",
    "from datasets import Dataset\n",
    "from datasets import load_dataset\n",
    "\n",
    "from transformers import AutoTokenizer\n",
    "from transformers import AutoModelForSequenceClassification, Trainer, TrainingArguments\n",
    "from peft import get_peft_model, LoraConfig, TaskType\n",
    "\n",
    "from sklearn.metrics import classification_report\n",
    "\n",
    "print(\"Is CUDA available: \", torch.cuda.is_available())\n",
    "print(\"CUDA device count: \", torch.cuda.device_count())"
   ]
  },
  {
   "cell_type": "markdown",
   "id": "69c62215-cb3a-414c-862a-25ecb86470d3",
   "metadata": {},
   "source": [
    "### Processing and model related functions"
   ]
  },
  {
   "cell_type": "code",
   "execution_count": 3,
   "id": "9e7ef1f9-11db-46fa-b575-2bd21fb6ff77",
   "metadata": {},
   "outputs": [],
   "source": [
    "def preprocess_text(text):\n",
    "    \"\"\"\n",
    "    Preprocesses the input text by converting to lowercase and removing special characters,\n",
    "    but keeping numbers and stop words.\n",
    "\n",
    "    Args:\n",
    "    text (str): The input text to preprocess.\n",
    "\n",
    "    Returns:\n",
    "    str: The preprocessed text.\n",
    "    \"\"\"\n",
    "    # Convert to lowercase\n",
    "    text = text.lower()\n",
    "    \n",
    "    # Remove special characters but keep numbers\n",
    "    text = re.sub(r'[^a-z0-9\\s]', '', text)\n",
    "    \n",
    "    return text\n",
    "    \n",
    "def preprocess_function(examples):\n",
    "    examples['text'] = [preprocess_text(text) for text in examples['text']]\n",
    "    return examples\n",
    "\n",
    "def tokenize_function(examples):\n",
    "    return tokenizer(examples['text'], padding='max_length', truncation=True)\n",
    "\n",
    "def compute_metrics(eval_pred):\n",
    "    predictions, labels = eval_pred\n",
    "    predictions = np.argmax(predictions, axis=1)\n",
    "    report = classification_report(labels, predictions, target_names=['Bearish', 'Bullish', 'Neutral'], output_dict=True, zero_division=0)\n",
    "    \n",
    "    accuracy = (predictions == labels).mean()\n",
    "    \n",
    "    # Extract precision, recall, and F1 score for each class\n",
    "    precision_neg = report['Bearish']['precision']\n",
    "    recall_neg = report['Bearish']['recall']\n",
    "    f1_neg = report['Bearish']['f1-score']\n",
    "    \n",
    "    precision_pos = report['Bullish']['precision']\n",
    "    recall_pos = report['Bullish']['recall']\n",
    "    f1_pos = report['Bullish']['f1-score']\n",
    "    \n",
    "    precision_neu = report['Neutral']['precision']\n",
    "    recall_neu = report['Neutral']['recall']\n",
    "    f1_neu = report['Neutral']['f1-score']\n",
    "    \n",
    "    return {\n",
    "        \"accuracy\": accuracy,\n",
    "        \"precision_negative\": precision_neg,\n",
    "        \"recall_negative\": recall_neg,\n",
    "        \"f1_negative\": f1_neg,\n",
    "        \"precision_positive\": precision_pos,\n",
    "        \"recall_positive\": recall_pos,\n",
    "        \"f1_positive\": f1_pos,\n",
    "        \"precision_neutral\": precision_neu,\n",
    "        \"recall_neutral\": recall_neu,\n",
    "        \"f1_neutral\": f1_neu,\n",
    "    }\n",
    "\n",
    "def create_results_dataframe(results, model_name):\n",
    "    results_df = pd.DataFrame([{\n",
    "        \"Model\": model_name,\n",
    "        \"Loss\": results.get('eval_loss', None),\n",
    "        \"Accuracy\": results.get('eval_accuracy', None),\n",
    "        \"Precision (Negative)\": results.get('eval_precision_negative', None),\n",
    "        \"Recall (Negative)\": results.get('eval_recall_negative', None),\n",
    "        \"F1 Score (Negative)\": results.get('eval_f1_negative', None),\n",
    "        \"Precision (Neutral)\": results.get('eval_precision_neutral', None),\n",
    "        \"Recall (Neutral)\": results.get('eval_recall_neutral', None),\n",
    "        \"F1 Score (Neutral)\": results.get('eval_f1_neutral', None),\n",
    "        \"Precision (Positive)\": results.get('eval_precision_positive', None),\n",
    "        \"Recall (Positive)\": results.get('eval_recall_positive', None),\n",
    "        \"F1 Score (Positive)\": results.get('eval_f1_positive', None),\n",
    "        \"Train Runtime\": results.get('eval_runtime', None)\n",
    "    }])\n",
    "    return results_df\n",
    "\n",
    "def infer(model, tokenizer, text):\n",
    "    # Preprocess the input text\n",
    "    inputs = tokenizer(text, return_tensors=\"pt\", padding=True, truncation=True, max_length=128)\n",
    "    \n",
    "    # Perform inference\n",
    "    model.eval()\n",
    "    with torch.no_grad():\n",
    "        outputs = model(**inputs)\n",
    "    \n",
    "    # Get the predicted class\n",
    "    predictions = torch.argmax(outputs.logits, dim=-1)\n",
    "    \n",
    "    return predictions.item()"
   ]
  },
  {
   "cell_type": "markdown",
   "id": "fd65e567-bdaf-47ed-85a6-554bd12b06ff",
   "metadata": {},
   "source": [
    "### Formating and Plotting functions"
   ]
  },
  {
   "cell_type": "code",
   "execution_count": 4,
   "id": "cde3b0e3-52c7-4d49-9e20-c99a6b7a0ae4",
   "metadata": {},
   "outputs": [],
   "source": [
    "def thousands_formatter(x, pos):\n",
    "    return f'{int(x):,}'\n",
    "\n",
    "def percentage_formatter(x, pos):\n",
    "    return f'{x:.1%}'\n",
    "\n",
    "def plot_label_distribution(df, label_column='label'):\n",
    "    \n",
    "    # Create the figure\n",
    "    plt.figure(figsize=(10, 3))\n",
    "    \n",
    "    # Count the occurrences of each label\n",
    "    label_counts = df[label_column].value_counts()\n",
    "    \n",
    "    # Define the label mapping\n",
    "    label_mapping = {0: 'Bearish', 1: 'Bullish', 2: 'Neutral'}\n",
    "    \n",
    "    # Map the labels\n",
    "    mapped_labels = label_counts.index.map(label_mapping)\n",
    "    \n",
    "    # Calculate percentages\n",
    "    total = label_counts.sum()\n",
    "    percentages = (label_counts / total * 100).round(1)\n",
    "    \n",
    "    # Plot the data as horizontal bars\n",
    "    bars = plt.barh(mapped_labels, label_counts.values, color='#a4b7d7', edgecolor='white')\n",
    "    \n",
    "    # Add the text with percentages at the end of each bar\n",
    "    for bar, percentage in zip(bars, percentages):\n",
    "        plt.text(bar.get_width() + 0.05, bar.get_y() + bar.get_height()/2, f'{percentage}%', va='center')\n",
    "    \n",
    "    # Customize the plot\n",
    "    plt.title('Labels Counts')\n",
    "    plt.xlabel('Count')\n",
    "    plt.ylabel('Label')\n",
    "    \n",
    "    # Remove ticks\n",
    "    plt.gca().xaxis.set_ticks_position('none')\n",
    "    plt.gca().yaxis.set_ticks_position('none')\n",
    "    \n",
    "    # Hide spines\n",
    "    for spine in plt.gca().spines.values():\n",
    "        spine.set_visible(False)\n",
    "    \n",
    "    # Apply thousands formatter to x-axis\n",
    "    plt.gca().xaxis.set_major_formatter(FuncFormatter(thousands_formatter))\n",
    "    \n",
    "    # Show the plot\n",
    "    plt.show()\n",
    "\n",
    "def plot_model_metrics(df):\n",
    "    fig, axes = plt.subplots(nrows=2, ncols=3, figsize=(25, 10))\n",
    "\n",
    "    # Function to get the color for each model\n",
    "    def get_color(model_name):\n",
    "        return special_color if model_name == 'PEFT Model V1' else default_color\n",
    "\n",
    "    # Function to add annotations\n",
    "    def add_annotations(ax, values):\n",
    "        for i, value in enumerate(values):\n",
    "            ax.text(value, i, f'{value:.2f}', va='center', ha='left')\n",
    "\n",
    "    # Define colors\n",
    "    default_color = '#a4b7d7'\n",
    "    special_color = '#0A2647'\n",
    "    precision_colors = ['#405D72', '#758694', '#F7E7DC']\n",
    "    recall_colors = ['#405D72', '#758694', '#F7E7DC']\n",
    "    f1_colors = ['#405D72', '#758694', '#F7E7DC']\n",
    "    \n",
    "    colors = [get_color(model) for model in df['Model']]\n",
    "    \n",
    "    # Loss\n",
    "    axes[0, 0].barh(df['Model'], df['Loss'], color=colors, edgecolor='white')\n",
    "    axes[0, 0].set_title('Loss')\n",
    "    add_annotations(axes[0, 0], df['Loss'])\n",
    "\n",
    "    # Overall Accuracy\n",
    "    axes[0, 1].barh(df['Model'], df['Accuracy'], color=colors, edgecolor='white')\n",
    "    axes[0, 1].set_title('Overall Accuracy')\n",
    "    add_annotations(axes[0, 1], df['Accuracy'])\n",
    "    \n",
    "    # Evaluation Runtime\n",
    "    axes[0, 2].barh(df['Model'], df['Train Runtime'], color=colors, edgecolor='white')\n",
    "    axes[0, 2].set_title('Evaluation Runtime')\n",
    "    add_annotations(axes[0, 2], df['Train Runtime'])\n",
    "    \n",
    "    # Precision\n",
    "    precision_data = df[['Model', 'Precision (Negative)', 'Precision (Neutral)', 'Precision (Positive)']]\n",
    "    precision_data.set_index('Model').plot(kind='barh', ax=axes[1, 0], color=precision_colors, edgecolor='white')\n",
    "    axes[1, 0].set_title('Precision')\n",
    "\n",
    "    # Recall\n",
    "    recall_data = df[['Model', 'Recall (Negative)', 'Recall (Neutral)', 'Recall (Positive)']]\n",
    "    recall_data.set_index('Model').plot(kind='barh', ax=axes[1, 1], color=recall_colors, edgecolor='white')\n",
    "    axes[1, 1].set_title('Recall')\n",
    "\n",
    "    # F1 Score\n",
    "    f1_data = df[['Model', 'F1 Score (Negative)', 'F1 Score (Neutral)', 'F1 Score (Positive)']]\n",
    "    f1_data.set_index('Model').plot(kind='barh', ax=axes[1, 2], color=f1_colors, edgecolor='white')\n",
    "    axes[1, 2].set_title('F1 Score')\n",
    "\n",
    "    # Hide spines for all subplots\n",
    "    for ax in axes.flat:\n",
    "        for spine in ax.spines.values():\n",
    "            spine.set_visible(False)\n",
    "\n",
    "    plt.tight_layout()\n",
    "    plt.show()"
   ]
  },
  {
   "cell_type": "markdown",
   "id": "224fc3fd-971b-4204-ba9d-83d14ffe2439",
   "metadata": {},
   "source": [
    "## Data preparation, exploration and analysis\n",
    "\n",
    "Preprocessing text helps in making the data more uniform and easier for the model to process, which ultimately leads to better performance in tasks like sentiment analysis. \n",
    "\n",
    "By reducing noise and ensuring consistency, preprocessing allows the model to learn more effectively from the data.\n",
    "Preprocessing text is a crucial step in preparing data for natural language processing (NLP) tasks, including sentiment analysis.\n",
    "\n",
    "  - Conssitency: Converting text to lowercase ensures that words are treated uniformly\n",
    "  - Noise Reduction: Removing special characters, numbers, and punctuation helps to eliminate noise that can confuse the model. Special characters and punctuation often do not contribute to the sentiment or meaning of the text and can be safely removed\n",
    "  - More effective tokenization:  By ensuring the text is clean and consistent, the tokenizer can generate more meaningful tokens.\n",
    "  - Improved Model Performance: Clean and consistent text helps the model learn better patterns. Preprocessing steps reduce the variability in the text data, making it easier for the model to focus on the important parts of the text, such as sentiment-laden words.\n",
    "\n",
    "_The current model we are using does not distinguish between uppercase and lowercase letters, which may affect its ability to capture the nuances in sentiment expressed through capitalization. In future iterations, we could address this limitation by utilizing a model like BERT, which can preserve and interpret the differences between capitalized and lowercase text, potentially enhancing the accuracy of sentiment analysis._\n",
    "\n",
    "The Twitter Financial News dataset is an English-language dataset containing an annotated corpus of finance-related tweets. This dataset is used to classify finance-related tweets for their sentiment.\n",
    "\n",
    "The dataset holds 11,932 documents annotated with 3 labels:\n",
    "\n",
    "- Label 0: \"Bearish\" \n",
    "- Label 1: \"Bullish\" \n",
    "- Label 2: \"Neutral\"\n",
    "\n",
    "https://huggingface.co/datasets/zeroshot/twitter-financial-news-sentiment?row=18\n"
   ]
  },
  {
   "cell_type": "code",
   "execution_count": 5,
   "id": "024e367e-7a33-49c1-9207-924dc18f3bad",
   "metadata": {},
   "outputs": [
    {
     "data": {
      "text/html": [
       "<div>\n",
       "<style scoped>\n",
       "    .dataframe tbody tr th:only-of-type {\n",
       "        vertical-align: middle;\n",
       "    }\n",
       "\n",
       "    .dataframe tbody tr th {\n",
       "        vertical-align: top;\n",
       "    }\n",
       "\n",
       "    .dataframe thead th {\n",
       "        text-align: right;\n",
       "    }\n",
       "</style>\n",
       "<table border=\"1\" class=\"dataframe\">\n",
       "  <thead>\n",
       "    <tr style=\"text-align: right;\">\n",
       "      <th></th>\n",
       "      <th>text</th>\n",
       "      <th>label</th>\n",
       "    </tr>\n",
       "  </thead>\n",
       "  <tbody>\n",
       "    <tr>\n",
       "      <th>0</th>\n",
       "      <td>bynd  jpmorgan reels in expectations on beyond...</td>\n",
       "      <td>0</td>\n",
       "    </tr>\n",
       "    <tr>\n",
       "      <th>1</th>\n",
       "      <td>ccl rcl  nomura points to bookings weakness at...</td>\n",
       "      <td>0</td>\n",
       "    </tr>\n",
       "    <tr>\n",
       "      <th>2</th>\n",
       "      <td>cx  cemex cut at credit suisse jp morgan on we...</td>\n",
       "      <td>0</td>\n",
       "    </tr>\n",
       "    <tr>\n",
       "      <th>3</th>\n",
       "      <td>ess btig research cuts to neutral httpstcomcyf...</td>\n",
       "      <td>0</td>\n",
       "    </tr>\n",
       "    <tr>\n",
       "      <th>4</th>\n",
       "      <td>fnko  funko slides after piper jaffray pt cut ...</td>\n",
       "      <td>0</td>\n",
       "    </tr>\n",
       "  </tbody>\n",
       "</table>\n",
       "</div>"
      ],
      "text/plain": [
       "                                                text  label\n",
       "0  bynd  jpmorgan reels in expectations on beyond...      0\n",
       "1  ccl rcl  nomura points to bookings weakness at...      0\n",
       "2  cx  cemex cut at credit suisse jp morgan on we...      0\n",
       "3  ess btig research cuts to neutral httpstcomcyf...      0\n",
       "4  fnko  funko slides after piper jaffray pt cut ...      0"
      ]
     },
     "execution_count": 5,
     "metadata": {},
     "output_type": "execute_result"
    }
   ],
   "source": [
    "# Load the financial tweets dataset\n",
    "dataset = load_dataset('zeroshot/twitter-financial-news-sentiment')\n",
    "dataset = dataset.map(preprocess_function, batched=True)\n",
    "\n",
    "train_df= dataset['train'].to_pandas()\n",
    "train_df.head()"
   ]
  },
  {
   "cell_type": "markdown",
   "id": "80c7e337-16a4-4210-aa0e-d5d30249b3cd",
   "metadata": {},
   "source": [
    "As observed, the dataset consists of two columns: text and label. When we plot the distribution of each label, it is evident that the training set is imbalanced, with bullish tweets making up 65% of the total tweets. Ideally, to train the model effectively, it would be beneficial to have a more balanced dataset with similar numbers of bearish, neutral, and bullish tweets.\n",
    "    "
   ]
  },
  {
   "cell_type": "code",
   "execution_count": 6,
   "id": "16114617-47a2-40be-828a-cdb1d9ea9f9f",
   "metadata": {},
   "outputs": [
    {
     "data": {
      "image/png": "[encoded data removed]",
      "text/plain": [
       "<Figure size 1000x300 with 1 Axes>"
      ]
     },
     "metadata": {},
     "output_type": "display_data"
    }
   ],
   "source": [
    "plot_label_distribution(train_df)"
   ]
  },
  {
   "cell_type": "markdown",
   "id": "1fb9f7d7-21c4-4d6f-af9e-1b31134e06c0",
   "metadata": {},
   "source": [
    "Rebalancing the training sample in traditional machine learning models is a common practice because these models often struggle with class imbalance. When there is an imbalance, the model may become biased towards the majority class, leading to poor performance on the minority class. However, the combination of large-scale pre-training, contextual learning, token-level predictions, and advanced regularization techniques makes LLMs more robust to class imbalance compared to traditional machine learning models. This robustness reduces the need for explicit rebalancing of the training sample."
   ]
  },
  {
   "cell_type": "markdown",
   "id": "43603570-0b55-4e5c-acf2-5cabfff190fb",
   "metadata": {},
   "source": [
    "## Selecting the \"right\" model\n",
    "\n",
    "- Why NOT bert-base-cased: Although BERT-Base-Cased provides superior language understanding and captures nuances effectively, it is computationally intensive. This makes it less suitable for scenarios where computational resources are limited or when a faster model is needed\n",
    "- Why distilbert-base-uncased: DistilBERT-Base-Cased offers a streamlined, faster version of BERT while retaining 97% of its language understanding capabilities. This efficiency makes it suitable for projects with computational resource constraints or the need for faster processing times."
   ]
  },
  {
   "cell_type": "code",
   "execution_count": 7,
   "id": "b6bd7670-e091-4cb5-93f4-5cf780ba2b6e",
   "metadata": {},
   "outputs": [],
   "source": [
    "tokenizer = AutoTokenizer.from_pretrained('distilbert-base-cased')"
   ]
  },
  {
   "cell_type": "code",
   "execution_count": 8,
   "id": "88febb7e-1250-49a0-bbdb-67821d8b6646",
   "metadata": {},
   "outputs": [
    {
     "data": {
      "text/plain": [
       "DatasetDict({\n",
       "    train: Dataset({\n",
       "        features: ['text', 'label', 'input_ids', 'attention_mask'],\n",
       "        num_rows: 9543\n",
       "    })\n",
       "    validation: Dataset({\n",
       "        features: ['text', 'label', 'input_ids', 'attention_mask'],\n",
       "        num_rows: 2388\n",
       "    })\n",
       "})"
      ]
     },
     "execution_count": 8,
     "metadata": {},
     "output_type": "execute_result"
    }
   ],
   "source": [
    "# Apply the tokenization function to the preprocessed dataset\n",
    "tokenized_datasets = dataset.map(tokenize_function, batched=True)\n",
    "tokenized_datasets"
   ]
  },
  {
   "cell_type": "code",
   "execution_count": 9,
   "id": "1c703a1f-6795-4cfd-86df-9cd729a9e38e",
   "metadata": {},
   "outputs": [],
   "source": [
    "tokenized_df = pd.DataFrame(tokenized_datasets['train'])"
   ]
  },
  {
   "cell_type": "code",
   "execution_count": 10,
   "id": "a7103e62-6aa6-4c32-a0d2-90b39f53de52",
   "metadata": {},
   "outputs": [
    {
     "data": {
      "text/html": [
       "<div>\n",
       "<style scoped>\n",
       "    .dataframe tbody tr th:only-of-type {\n",
       "        vertical-align: middle;\n",
       "    }\n",
       "\n",
       "    .dataframe tbody tr th {\n",
       "        vertical-align: top;\n",
       "    }\n",
       "\n",
       "    .dataframe thead th {\n",
       "        text-align: right;\n",
       "    }\n",
       "</style>\n",
       "<table border=\"1\" class=\"dataframe\">\n",
       "  <thead>\n",
       "    <tr style=\"text-align: right;\">\n",
       "      <th></th>\n",
       "      <th>text</th>\n",
       "      <th>label</th>\n",
       "      <th>input_ids</th>\n",
       "      <th>attention_mask</th>\n",
       "    </tr>\n",
       "  </thead>\n",
       "  <tbody>\n",
       "    <tr>\n",
       "      <th>0</th>\n",
       "      <td>bynd  jpmorgan reels in expectations on beyond...</td>\n",
       "      <td>0</td>\n",
       "      <td>[101, 1118, 3276, 179, 9952, 1766, 3820, 24548...</td>\n",
       "      <td>[1, 1, 1, 1, 1, 1, 1, 1, 1, 1, 1, 1, 1, 1, 1, ...</td>\n",
       "    </tr>\n",
       "    <tr>\n",
       "      <th>1</th>\n",
       "      <td>ccl rcl  nomura points to bookings weakness at...</td>\n",
       "      <td>0</td>\n",
       "      <td>[101, 14402, 1233, 187, 1665, 1233, 1185, 1453...</td>\n",
       "      <td>[1, 1, 1, 1, 1, 1, 1, 1, 1, 1, 1, 1, 1, 1, 1, ...</td>\n",
       "    </tr>\n",
       "    <tr>\n",
       "      <th>2</th>\n",
       "      <td>cx  cemex cut at credit suisse jp morgan on we...</td>\n",
       "      <td>0</td>\n",
       "      <td>[101, 172, 1775, 172, 5521, 11708, 2195, 1120,...</td>\n",
       "      <td>[1, 1, 1, 1, 1, 1, 1, 1, 1, 1, 1, 1, 1, 1, 1, ...</td>\n",
       "    </tr>\n",
       "    <tr>\n",
       "      <th>3</th>\n",
       "      <td>ess btig research cuts to neutral httpstcomcyf...</td>\n",
       "      <td>0</td>\n",
       "      <td>[101, 13936, 1116, 171, 3121, 1403, 1844, 7484...</td>\n",
       "      <td>[1, 1, 1, 1, 1, 1, 1, 1, 1, 1, 1, 1, 1, 1, 1, ...</td>\n",
       "    </tr>\n",
       "    <tr>\n",
       "      <th>4</th>\n",
       "      <td>fnko  funko slides after piper jaffray pt cut ...</td>\n",
       "      <td>0</td>\n",
       "      <td>[101, 175, 17075, 19657, 1186, 15766, 1170, 94...</td>\n",
       "      <td>[1, 1, 1, 1, 1, 1, 1, 1, 1, 1, 1, 1, 1, 1, 1, ...</td>\n",
       "    </tr>\n",
       "    <tr>\n",
       "      <th>...</th>\n",
       "      <td>...</td>\n",
       "      <td>...</td>\n",
       "      <td>...</td>\n",
       "      <td>...</td>\n",
       "    </tr>\n",
       "    <tr>\n",
       "      <th>9538</th>\n",
       "      <td>the weeks gainers and losers on the stoxx euro...</td>\n",
       "      <td>2</td>\n",
       "      <td>[101, 1103, 2277, 4361, 1468, 1105, 19398, 111...</td>\n",
       "      <td>[1, 1, 1, 1, 1, 1, 1, 1, 1, 1, 1, 1, 1, 1, 1, ...</td>\n",
       "    </tr>\n",
       "    <tr>\n",
       "      <th>9539</th>\n",
       "      <td>tupperware brands among consumer gainers unile...</td>\n",
       "      <td>2</td>\n",
       "      <td>[101, 189, 4455, 3365, 7109, 10915, 1621, 8440...</td>\n",
       "      <td>[1, 1, 1, 1, 1, 1, 1, 1, 1, 1, 1, 1, 1, 1, 1, ...</td>\n",
       "    </tr>\n",
       "    <tr>\n",
       "      <th>9540</th>\n",
       "      <td>vtv therapeutics leads healthcare gainers myom...</td>\n",
       "      <td>2</td>\n",
       "      <td>[101, 191, 1204, 1964, 20340, 1116, 4501, 1252...</td>\n",
       "      <td>[1, 1, 1, 1, 1, 1, 1, 1, 1, 1, 1, 1, 1, 1, 1, ...</td>\n",
       "    </tr>\n",
       "    <tr>\n",
       "      <th>9541</th>\n",
       "      <td>work xpo pyx and amkr among after hour movers</td>\n",
       "      <td>2</td>\n",
       "      <td>[101, 1250, 193, 5674, 185, 19367, 1105, 1821,...</td>\n",
       "      <td>[1, 1, 1, 1, 1, 1, 1, 1, 1, 1, 1, 1, 1, 1, 1, ...</td>\n",
       "    </tr>\n",
       "    <tr>\n",
       "      <th>9542</th>\n",
       "      <td>yndx i qd and oesx among tech movers</td>\n",
       "      <td>2</td>\n",
       "      <td>[101, 194, 3276, 1775, 178, 186, 1181, 1105, 1...</td>\n",
       "      <td>[1, 1, 1, 1, 1, 1, 1, 1, 1, 1, 1, 1, 1, 1, 1, ...</td>\n",
       "    </tr>\n",
       "  </tbody>\n",
       "</table>\n",
       "<p>9543 rows × 4 columns</p>\n",
       "</div>"
      ],
      "text/plain": [
       "                                                   text  label  \\\n",
       "0     bynd  jpmorgan reels in expectations on beyond...      0   \n",
       "1     ccl rcl  nomura points to bookings weakness at...      0   \n",
       "2     cx  cemex cut at credit suisse jp morgan on we...      0   \n",
       "3     ess btig research cuts to neutral httpstcomcyf...      0   \n",
       "4     fnko  funko slides after piper jaffray pt cut ...      0   \n",
       "...                                                 ...    ...   \n",
       "9538  the weeks gainers and losers on the stoxx euro...      2   \n",
       "9539  tupperware brands among consumer gainers unile...      2   \n",
       "9540  vtv therapeutics leads healthcare gainers myom...      2   \n",
       "9541      work xpo pyx and amkr among after hour movers      2   \n",
       "9542               yndx i qd and oesx among tech movers      2   \n",
       "\n",
       "                                              input_ids  \\\n",
       "0     [101, 1118, 3276, 179, 9952, 1766, 3820, 24548...   \n",
       "1     [101, 14402, 1233, 187, 1665, 1233, 1185, 1453...   \n",
       "2     [101, 172, 1775, 172, 5521, 11708, 2195, 1120,...   \n",
       "3     [101, 13936, 1116, 171, 3121, 1403, 1844, 7484...   \n",
       "4     [101, 175, 17075, 19657, 1186, 15766, 1170, 94...   \n",
       "...                                                 ...   \n",
       "9538  [101, 1103, 2277, 4361, 1468, 1105, 19398, 111...   \n",
       "9539  [101, 189, 4455, 3365, 7109, 10915, 1621, 8440...   \n",
       "9540  [101, 191, 1204, 1964, 20340, 1116, 4501, 1252...   \n",
       "9541  [101, 1250, 193, 5674, 185, 19367, 1105, 1821,...   \n",
       "9542  [101, 194, 3276, 1775, 178, 186, 1181, 1105, 1...   \n",
       "\n",
       "                                         attention_mask  \n",
       "0     [1, 1, 1, 1, 1, 1, 1, 1, 1, 1, 1, 1, 1, 1, 1, ...  \n",
       "1     [1, 1, 1, 1, 1, 1, 1, 1, 1, 1, 1, 1, 1, 1, 1, ...  \n",
       "2     [1, 1, 1, 1, 1, 1, 1, 1, 1, 1, 1, 1, 1, 1, 1, ...  \n",
       "3     [1, 1, 1, 1, 1, 1, 1, 1, 1, 1, 1, 1, 1, 1, 1, ...  \n",
       "4     [1, 1, 1, 1, 1, 1, 1, 1, 1, 1, 1, 1, 1, 1, 1, ...  \n",
       "...                                                 ...  \n",
       "9538  [1, 1, 1, 1, 1, 1, 1, 1, 1, 1, 1, 1, 1, 1, 1, ...  \n",
       "9539  [1, 1, 1, 1, 1, 1, 1, 1, 1, 1, 1, 1, 1, 1, 1, ...  \n",
       "9540  [1, 1, 1, 1, 1, 1, 1, 1, 1, 1, 1, 1, 1, 1, 1, ...  \n",
       "9541  [1, 1, 1, 1, 1, 1, 1, 1, 1, 1, 1, 1, 1, 1, 1, ...  \n",
       "9542  [1, 1, 1, 1, 1, 1, 1, 1, 1, 1, 1, 1, 1, 1, 1, ...  \n",
       "\n",
       "[9543 rows x 4 columns]"
      ]
     },
     "execution_count": 10,
     "metadata": {},
     "output_type": "execute_result"
    }
   ],
   "source": [
    "tokenized_df"
   ]
  },
  {
   "cell_type": "markdown",
   "id": "9aa52445-2696-4c75-ab91-b0c601d14dfb",
   "metadata": {},
   "source": [
    "## Evaluating the base model"
   ]
  },
  {
   "cell_type": "code",
   "execution_count": 16,
   "id": "c5d0a74e-9dde-4ded-9484-c350bea2ec73",
   "metadata": {},
   "outputs": [
    {
     "name": "stderr",
     "output_type": "stream",
     "text": [
      "Some weights of DistilBertForSequenceClassification were not initialized from the model checkpoint at distilbert-base-cased and are newly initialized: ['classifier.bias', 'classifier.weight', 'pre_classifier.bias', 'pre_classifier.weight']\n",
      "You should probably TRAIN this model on a down-stream task to be able to use it for predictions and inference.\n"
     ]
    },
    {
     "data": {
      "text/html": [
       "\n",
       "    <div>\n",
       "      \n",
       "      <progress value='150' max='150' style='width:300px; height:20px; vertical-align: middle;'></progress>\n",
       "      [150/150 00:24]\n",
       "    </div>\n",
       "    "
      ],
      "text/plain": [
       "<IPython.core.display.HTML object>"
      ]
     },
     "metadata": {},
     "output_type": "display_data"
    }
   ],
   "source": [
    "\n",
    "# Load the tokenizer and model\n",
    "model = AutoModelForSequenceClassification.from_pretrained(\n",
    "    'distilbert-base-cased', \n",
    "    num_labels=3, \n",
    "    id2label={0:\"Bearish\", 1:\"Bullish\", 2:\"Neutral\"}, \n",
    "    label2id={\"Bearish\":0, \"Bullish\":1, \"Neutral\":2}\n",
    ")\n",
    "\n",
    "# Define training arguments\n",
    "training_args = TrainingArguments(\n",
    "    output_dir='./data/model', # where we save the model checkpoiints\n",
    "    num_train_epochs=0,  # No training, only evaluation\n",
    "    per_device_train_batch_size=16,\n",
    "    per_device_eval_batch_size=16,\n",
    "    warmup_steps=500,\n",
    "    weight_decay=0.01,\n",
    ")\n",
    "\n",
    "# Initialize the Trainer\n",
    "trainer = Trainer(\n",
    "    model=model,\n",
    "    args=training_args,\n",
    "    train_dataset=tokenized_datasets['train'],\n",
    "    eval_dataset=tokenized_datasets['validation'],\n",
    "    compute_metrics=compute_metrics\n",
    ")\n",
    "\n",
    "# Evaluate the base model\n",
    "base_model_metrics = trainer.evaluate()\n"
   ]
  },
  {
   "cell_type": "code",
   "execution_count": 17,
   "id": "72573290-86de-4993-85a6-e234801afd22",
   "metadata": {},
   "outputs": [
    {
     "data": {
      "text/html": [
       "<div>\n",
       "<style scoped>\n",
       "    .dataframe tbody tr th:only-of-type {\n",
       "        vertical-align: middle;\n",
       "    }\n",
       "\n",
       "    .dataframe tbody tr th {\n",
       "        vertical-align: top;\n",
       "    }\n",
       "\n",
       "    .dataframe thead th {\n",
       "        text-align: right;\n",
       "    }\n",
       "</style>\n",
       "<table border=\"1\" class=\"dataframe\">\n",
       "  <thead>\n",
       "    <tr style=\"text-align: right;\">\n",
       "      <th></th>\n",
       "      <th>Model</th>\n",
       "      <th>Loss</th>\n",
       "      <th>Accuracy</th>\n",
       "      <th>Precision (Negative)</th>\n",
       "      <th>Recall (Negative)</th>\n",
       "      <th>F1 Score (Negative)</th>\n",
       "      <th>Precision (Neutral)</th>\n",
       "      <th>Recall (Neutral)</th>\n",
       "      <th>F1 Score (Neutral)</th>\n",
       "      <th>Precision (Positive)</th>\n",
       "      <th>Recall (Positive)</th>\n",
       "      <th>F1 Score (Positive)</th>\n",
       "      <th>Train Runtime</th>\n",
       "    </tr>\n",
       "  </thead>\n",
       "  <tbody>\n",
       "    <tr>\n",
       "      <th>0</th>\n",
       "      <td>Base Model Metrics</td>\n",
       "      <td>1.053732</td>\n",
       "      <td>0.655779</td>\n",
       "      <td>0.0</td>\n",
       "      <td>0.0</td>\n",
       "      <td>0.0</td>\n",
       "      <td>0.655779</td>\n",
       "      <td>1.0</td>\n",
       "      <td>0.792109</td>\n",
       "      <td>0.0</td>\n",
       "      <td>0.0</td>\n",
       "      <td>0.0</td>\n",
       "      <td>25.0604</td>\n",
       "    </tr>\n",
       "  </tbody>\n",
       "</table>\n",
       "</div>"
      ],
      "text/plain": [
       "                Model      Loss  Accuracy  Precision (Negative)  \\\n",
       "0  Base Model Metrics  1.053732  0.655779                   0.0   \n",
       "\n",
       "   Recall (Negative)  F1 Score (Negative)  Precision (Neutral)  \\\n",
       "0                0.0                  0.0             0.655779   \n",
       "\n",
       "   Recall (Neutral)  F1 Score (Neutral)  Precision (Positive)  \\\n",
       "0               1.0            0.792109                   0.0   \n",
       "\n",
       "   Recall (Positive)  F1 Score (Positive)  Train Runtime  \n",
       "0                0.0                  0.0        25.0604  "
      ]
     },
     "execution_count": 17,
     "metadata": {},
     "output_type": "execute_result"
    }
   ],
   "source": [
    "results_df_base = create_results_dataframe(base_model_metrics,\"Base Model Metrics\")\n",
    "results_df_base"
   ]
  },
  {
   "cell_type": "markdown",
   "id": "5b830638-7657-4b72-9743-32e08dbd4d6a",
   "metadata": {},
   "source": [
    "The metrics shown in the table provide an evaluation of the base model's performance on the classification task of financial tweets with three classes: Negative, Neutral, and Positive. \n",
    "\n",
    "The model correctly classified approximately 65.58% of the instances. (Not very high)\n",
    "Train Runtime: 25.0604, representing the time taken for the evaluation process.\n"
   ]
  },
  {
   "cell_type": "markdown",
   "id": "5e34809d-b1ee-43fc-852a-ea661f2b09c7",
   "metadata": {},
   "source": [
    "## Training the models\n",
    "### Fine-tuning the base model"
   ]
  },
  {
   "cell_type": "code",
   "execution_count": 10,
   "id": "c337657f-459a-44cb-b43a-92faf1e41d9d",
   "metadata": {},
   "outputs": [
    {
     "name": "stderr",
     "output_type": "stream",
     "text": [
      "Some weights of DistilBertForSequenceClassification were not initialized from the model checkpoint at distilbert-base-cased and are newly initialized: ['classifier.bias', 'classifier.weight', 'pre_classifier.bias', 'pre_classifier.weight']\n",
      "You should probably TRAIN this model on a down-stream task to be able to use it for predictions and inference.\n"
     ]
    }
   ],
   "source": [
    "model = AutoModelForSequenceClassification.from_pretrained('distilbert-base-cased', num_labels=3, id2label={0:\"Bearish\",1:\"Bullish\",2:\"Neutral\"}, label2id={\"Bearish\":0,\"Bullish\":1,\"Neutral\":2})"
   ]
  },
  {
   "cell_type": "code",
   "execution_count": 11,
   "id": "91914e37-654e-4b93-9509-7e345ea5f706",
   "metadata": {},
   "outputs": [],
   "source": [
    "# Define training arguments\n",
    "training_args = TrainingArguments(\n",
    "    output_dir='./data/model', # where we save the model checkpoiints\n",
    "    num_train_epochs=3,\n",
    "    per_device_train_batch_size=16,\n",
    "    per_device_eval_batch_size=16,\n",
    "    warmup_steps=500,\n",
    "    weight_decay=0.01,\n",
    ")\n"
   ]
  },
  {
   "cell_type": "code",
   "execution_count": 12,
   "id": "ad5e0582-40d2-4c56-8403-6a1baf58e79f",
   "metadata": {},
   "outputs": [],
   "source": [
    "# Define the Trainer\n",
    "trainer = Trainer(\n",
    "    model=model,\n",
    "    args=training_args,\n",
    "    train_dataset=tokenized_datasets['train'],\n",
    "    eval_dataset=tokenized_datasets['validation'],\n",
    "        \n",
    ")"
   ]
  },
  {
   "cell_type": "code",
   "execution_count": 13,
   "id": "e6a954f5-83bb-4e93-a135-fb97eb1cdfd1",
   "metadata": {},
   "outputs": [
    {
     "data": {
      "text/html": [
       "\n",
       "    <div>\n",
       "      \n",
       "      <progress value='1791' max='1791' style='width:300px; height:20px; vertical-align: middle;'></progress>\n",
       "      [1791/1791 13:14, Epoch 3/3]\n",
       "    </div>\n",
       "    <table border=\"1\" class=\"dataframe\">\n",
       "  <thead>\n",
       " <tr style=\"text-align: left;\">\n",
       "      <th>Step</th>\n",
       "      <th>Training Loss</th>\n",
       "    </tr>\n",
       "  </thead>\n",
       "  <tbody>\n",
       "    <tr>\n",
       "      <td>500</td>\n",
       "      <td>0.672000</td>\n",
       "    </tr>\n",
       "    <tr>\n",
       "      <td>1000</td>\n",
       "      <td>0.382400</td>\n",
       "    </tr>\n",
       "    <tr>\n",
       "      <td>1500</td>\n",
       "      <td>0.207000</td>\n",
       "    </tr>\n",
       "  </tbody>\n",
       "</table><p>"
      ],
      "text/plain": [
       "<IPython.core.display.HTML object>"
      ]
     },
     "metadata": {},
     "output_type": "display_data"
    }
   ],
   "source": [
    "# Fine-tune the model\n",
    "trainer.train()\n",
    "trainer.save_model(\"./data/model\")"
   ]
  },
  {
   "cell_type": "markdown",
   "id": "dfb5fdc0-9973-4621-b735-b93770aea575",
   "metadata": {},
   "source": [
    "### Parameter Efficient Fine-Tuning (PEFT) \n"
   ]
  },
  {
   "cell_type": "code",
   "execution_count": 14,
   "id": "50ac8cd9-ac08-4dde-b343-57942dcda59c",
   "metadata": {},
   "outputs": [
    {
     "name": "stdout",
     "output_type": "stream",
     "text": [
      "trainable params: 629,763 || all params: 66,413,574 || trainable%: 0.9482\n"
     ]
    }
   ],
   "source": [
    "pretrained_model = AutoModelForSequenceClassification.from_pretrained(\"./data/model\")\n",
    "\n",
    "peft_config = LoraConfig(\n",
    "    task_type=TaskType.SEQ_CLS,\n",
    "    inference_mode=False,\n",
    "    r=1,\n",
    "    lora_alpha=1,\n",
    "    lora_dropout=0.1,\n",
    "    target_modules=[\"q_lin\", \"k_lin\", \"v_lin\", \"out_lin\"],\n",
    "    bias=\"none\"\n",
    ")\n",
    "\n",
    "peft_model = get_peft_model(pretrained_model, peft_config)\n",
    "peft_model.print_trainable_parameters()"
   ]
  },
  {
   "cell_type": "code",
   "execution_count": 15,
   "id": "4d6e5183-ca70-42dc-b5f9-1958cf814d03",
   "metadata": {},
   "outputs": [
    {
     "data": {
      "text/html": [
       "\n",
       "    <div>\n",
       "      \n",
       "      <progress value='1791' max='1791' style='width:300px; height:20px; vertical-align: middle;'></progress>\n",
       "      [1791/1791 11:21, Epoch 3/3]\n",
       "    </div>\n",
       "    <table border=\"1\" class=\"dataframe\">\n",
       "  <thead>\n",
       " <tr style=\"text-align: left;\">\n",
       "      <th>Step</th>\n",
       "      <th>Training Loss</th>\n",
       "    </tr>\n",
       "  </thead>\n",
       "  <tbody>\n",
       "    <tr>\n",
       "      <td>500</td>\n",
       "      <td>0.073600</td>\n",
       "    </tr>\n",
       "    <tr>\n",
       "      <td>1000</td>\n",
       "      <td>0.070400</td>\n",
       "    </tr>\n",
       "    <tr>\n",
       "      <td>1500</td>\n",
       "      <td>0.051300</td>\n",
       "    </tr>\n",
       "  </tbody>\n",
       "</table><p>"
      ],
      "text/plain": [
       "<IPython.core.display.HTML object>"
      ]
     },
     "metadata": {},
     "output_type": "display_data"
    }
   ],
   "source": [
    "peft_training_args = TrainingArguments(\n",
    "    output_dir=\"./data/peft_training\",\n",
    "    learning_rate=2e-5,\n",
    "    per_device_train_batch_size=16,\n",
    "    per_device_eval_batch_size=16,\n",
    "    num_train_epochs=3,\n",
    "    weight_decay=0.01\n",
    ")\n",
    "\n",
    "peft_trainer = Trainer(\n",
    "    model=peft_model,\n",
    "    args=peft_training_args,\n",
    "    train_dataset=tokenized_datasets['train'],\n",
    "    eval_dataset=tokenized_datasets['validation'],  # Use 'test' split as validation\n",
    "    tokenizer=tokenizer,\n",
    "    compute_metrics=compute_metrics\n",
    ")\n",
    "\n",
    "peft_trainer.train()\n",
    "peft_trainer.save_model(\"./data/peft_model_v1\")"
   ]
  },
  {
   "cell_type": "code",
   "execution_count": 16,
   "id": "d625926d-7631-4bf6-802b-f11b3362b382",
   "metadata": {},
   "outputs": [
    {
     "name": "stdout",
     "output_type": "stream",
     "text": [
      "trainable params: 629,763 || all params: 66,413,574 || trainable%: 0.9482\n"
     ]
    },
    {
     "data": {
      "text/html": [
       "\n",
       "    <div>\n",
       "      \n",
       "      <progress value='3579' max='3579' style='width:300px; height:20px; vertical-align: middle;'></progress>\n",
       "      [3579/3579 11:33, Epoch 3/3]\n",
       "    </div>\n",
       "    <table border=\"1\" class=\"dataframe\">\n",
       "  <thead>\n",
       " <tr style=\"text-align: left;\">\n",
       "      <th>Step</th>\n",
       "      <th>Training Loss</th>\n",
       "    </tr>\n",
       "  </thead>\n",
       "  <tbody>\n",
       "    <tr>\n",
       "      <td>500</td>\n",
       "      <td>0.086200</td>\n",
       "    </tr>\n",
       "    <tr>\n",
       "      <td>1000</td>\n",
       "      <td>0.065700</td>\n",
       "    </tr>\n",
       "    <tr>\n",
       "      <td>1500</td>\n",
       "      <td>0.072500</td>\n",
       "    </tr>\n",
       "    <tr>\n",
       "      <td>2000</td>\n",
       "      <td>0.083500</td>\n",
       "    </tr>\n",
       "    <tr>\n",
       "      <td>2500</td>\n",
       "      <td>0.070500</td>\n",
       "    </tr>\n",
       "    <tr>\n",
       "      <td>3000</td>\n",
       "      <td>0.042100</td>\n",
       "    </tr>\n",
       "    <tr>\n",
       "      <td>3500</td>\n",
       "      <td>0.090500</td>\n",
       "    </tr>\n",
       "  </tbody>\n",
       "</table><p>"
      ],
      "text/plain": [
       "<IPython.core.display.HTML object>"
      ]
     },
     "metadata": {},
     "output_type": "display_data"
    }
   ],
   "source": [
    "pretrained_model = AutoModelForSequenceClassification.from_pretrained(\"./data/model\")\n",
    "\n",
    "peft_config = LoraConfig(\n",
    "    task_type=TaskType.SEQ_CLS,\n",
    "    inference_mode=False,\n",
    "    r=1,\n",
    "    lora_alpha=1,\n",
    "    lora_dropout=0.1,\n",
    "    target_modules=[\"q_lin\", \"k_lin\", \"v_lin\", \"out_lin\"],\n",
    "    bias=\"none\"\n",
    ")\n",
    "\n",
    "peft_model = get_peft_model(pretrained_model, peft_config)\n",
    "peft_model.print_trainable_parameters()\n",
    "\n",
    "peft_training_args = TrainingArguments(\n",
    "    output_dir=\"./data/peft_training_v2\",\n",
    "    learning_rate=2e-5,\n",
    "    per_device_train_batch_size=8,\n",
    "    per_device_eval_batch_size=8,\n",
    "    num_train_epochs=3,\n",
    "    weight_decay=0.05\n",
    ")\n",
    "\n",
    "peft_trainer = Trainer(\n",
    "    model=peft_model,\n",
    "    args=peft_training_args,\n",
    "    train_dataset=tokenized_datasets['train'],\n",
    "    eval_dataset=tokenized_datasets['validation'],  # Use 'test' split as validation\n",
    "    tokenizer=tokenizer,\n",
    "    compute_metrics=compute_metrics\n",
    ")\n",
    "\n",
    "peft_trainer.train()\n",
    "peft_trainer.save_model(\"./data/peft_model_v2\")"
   ]
  },
  {
   "cell_type": "markdown",
   "id": "5332c57c-c0b7-4264-a76c-fa73ec194c96",
   "metadata": {},
   "source": [
    "\n",
    "## Evaluating both models (Fine-tuned model vs PEFT Model v1 vs PEFT Model v2)\n",
    "\n",
    "To evaluate both models, we need to load them and obtain key performance metrics, such as the loss function and accuracy.\n"
   ]
  },
  {
   "cell_type": "markdown",
   "id": "925c57f8-b695-4861-ba61-a4e06bd3dba4",
   "metadata": {},
   "source": [
    "### Fine-Tuned Model Evaluation"
   ]
  },
  {
   "cell_type": "code",
   "execution_count": 18,
   "id": "309a8534-a5f1-4f37-82e1-a8dd7f807692",
   "metadata": {},
   "outputs": [
    {
     "data": {
      "text/html": [
       "\n",
       "    <div>\n",
       "      \n",
       "      <progress value='150' max='150' style='width:300px; height:20px; vertical-align: middle;'></progress>\n",
       "      [150/150 00:22]\n",
       "    </div>\n",
       "    "
      ],
      "text/plain": [
       "<IPython.core.display.HTML object>"
      ]
     },
     "metadata": {},
     "output_type": "display_data"
    }
   ],
   "source": [
    "# Path to the directory where the model checkpoint is saved\n",
    "model_path = './data/model'\n",
    "\n",
    "# Load the model\n",
    "model = AutoModelForSequenceClassification.from_pretrained(model_path)\n",
    "\n",
    "# Load the training arguments\n",
    "training_args = TrainingArguments(\n",
    "    output_dir='./data/model',\n",
    "    per_device_eval_batch_size=16,\n",
    "    logging_dir='./logs/model',\n",
    "    logging_steps=10,\n",
    ")\n",
    "\n",
    "# Initialize the Trainer\n",
    "trainer = Trainer(\n",
    "    model=model,\n",
    "    args=training_args,\n",
    "    eval_dataset=tokenized_datasets['validation'],  # Assuming you have a validation dataset\n",
    "    compute_metrics=compute_metrics,\n",
    ")\n",
    "\n",
    "# Evaluate the model\n",
    "results = trainer.evaluate()"
   ]
  },
  {
   "cell_type": "code",
   "execution_count": 19,
   "id": "6b59b088-2ca4-46ae-bda7-26439828e820",
   "metadata": {
    "scrolled": true
   },
   "outputs": [
    {
     "data": {
      "text/html": [
       "<div>\n",
       "<style scoped>\n",
       "    .dataframe tbody tr th:only-of-type {\n",
       "        vertical-align: middle;\n",
       "    }\n",
       "\n",
       "    .dataframe tbody tr th {\n",
       "        vertical-align: top;\n",
       "    }\n",
       "\n",
       "    .dataframe thead th {\n",
       "        text-align: right;\n",
       "    }\n",
       "</style>\n",
       "<table border=\"1\" class=\"dataframe\">\n",
       "  <thead>\n",
       "    <tr style=\"text-align: right;\">\n",
       "      <th></th>\n",
       "      <th>Model</th>\n",
       "      <th>Loss</th>\n",
       "      <th>Accuracy</th>\n",
       "      <th>Precision (Negative)</th>\n",
       "      <th>Recall (Negative)</th>\n",
       "      <th>F1 Score (Negative)</th>\n",
       "      <th>Precision (Neutral)</th>\n",
       "      <th>Recall (Neutral)</th>\n",
       "      <th>F1 Score (Neutral)</th>\n",
       "      <th>Precision (Positive)</th>\n",
       "      <th>Recall (Positive)</th>\n",
       "      <th>F1 Score (Positive)</th>\n",
       "      <th>Train Runtime</th>\n",
       "    </tr>\n",
       "  </thead>\n",
       "  <tbody>\n",
       "    <tr>\n",
       "      <th>0</th>\n",
       "      <td>Fine-Tuned Model</td>\n",
       "      <td>0.525072</td>\n",
       "      <td>0.871441</td>\n",
       "      <td>0.765363</td>\n",
       "      <td>0.789625</td>\n",
       "      <td>0.777305</td>\n",
       "      <td>0.912794</td>\n",
       "      <td>0.915709</td>\n",
       "      <td>0.914249</td>\n",
       "      <td>0.812636</td>\n",
       "      <td>0.785263</td>\n",
       "      <td>0.798715</td>\n",
       "      <td>22.6798</td>\n",
       "    </tr>\n",
       "  </tbody>\n",
       "</table>\n",
       "</div>"
      ],
      "text/plain": [
       "              Model      Loss  Accuracy  Precision (Negative)  \\\n",
       "0  Fine-Tuned Model  0.525072  0.871441              0.765363   \n",
       "\n",
       "   Recall (Negative)  F1 Score (Negative)  Precision (Neutral)  \\\n",
       "0           0.789625             0.777305             0.912794   \n",
       "\n",
       "   Recall (Neutral)  F1 Score (Neutral)  Precision (Positive)  \\\n",
       "0          0.915709            0.914249              0.812636   \n",
       "\n",
       "   Recall (Positive)  F1 Score (Positive)  Train Runtime  \n",
       "0           0.785263             0.798715        22.6798  "
      ]
     },
     "execution_count": 19,
     "metadata": {},
     "output_type": "execute_result"
    }
   ],
   "source": [
    "results_df_finetuned = create_results_dataframe(results,\"Fine-Tuned Model\")\n",
    "results_df_finetuned"
   ]
  },
  {
   "cell_type": "markdown",
   "id": "ae984c6f-9460-4fae-906a-ba85f8445648",
   "metadata": {},
   "source": [
    "### Peft v1 Evaluation"
   ]
  },
  {
   "cell_type": "code",
   "execution_count": 20,
   "id": "fb8a8db4-8acc-4768-a219-cc2c8aeb7745",
   "metadata": {},
   "outputs": [
    {
     "data": {
      "text/html": [
       "\n",
       "    <div>\n",
       "      \n",
       "      <progress value='150' max='150' style='width:300px; height:20px; vertical-align: middle;'></progress>\n",
       "      [150/150 00:24]\n",
       "    </div>\n",
       "    "
      ],
      "text/plain": [
       "<IPython.core.display.HTML object>"
      ]
     },
     "metadata": {},
     "output_type": "display_data"
    }
   ],
   "source": [
    "model_path = \"./data/peft_model_v1\"\n",
    "peft_model = AutoModelForSequenceClassification.from_pretrained(model_path)\n",
    "\n",
    "peft_training_args = TrainingArguments(\n",
    "    output_dir=\"./data/peft_training\",\n",
    "    learning_rate=2e-5,\n",
    "    per_device_train_batch_size=16,\n",
    "    per_device_eval_batch_size=16,\n",
    "    num_train_epochs=3,\n",
    "    weight_decay=0.01,\n",
    "    logging_dir='./logs/model/peft_model_v1',\n",
    "    logging_steps=10,\n",
    ")\n",
    "\n",
    "peft_trainer = Trainer(\n",
    "    model=peft_model,\n",
    "    args=peft_training_args,\n",
    "    train_dataset=tokenized_datasets['train'],\n",
    "    eval_dataset=tokenized_datasets['validation'],  # Use 'test' split as validation\n",
    "    tokenizer=tokenizer,\n",
    "    compute_metrics=compute_metrics\n",
    ")\n",
    "\n",
    "# Evaluate the model\n",
    "results = peft_trainer.evaluate()"
   ]
  },
  {
   "cell_type": "code",
   "execution_count": 21,
   "id": "2c2abc84-aff2-44bb-867b-3cf5b8bbbd92",
   "metadata": {},
   "outputs": [
    {
     "data": {
      "text/html": [
       "<div>\n",
       "<style scoped>\n",
       "    .dataframe tbody tr th:only-of-type {\n",
       "        vertical-align: middle;\n",
       "    }\n",
       "\n",
       "    .dataframe tbody tr th {\n",
       "        vertical-align: top;\n",
       "    }\n",
       "\n",
       "    .dataframe thead th {\n",
       "        text-align: right;\n",
       "    }\n",
       "</style>\n",
       "<table border=\"1\" class=\"dataframe\">\n",
       "  <thead>\n",
       "    <tr style=\"text-align: right;\">\n",
       "      <th></th>\n",
       "      <th>Model</th>\n",
       "      <th>Loss</th>\n",
       "      <th>Accuracy</th>\n",
       "      <th>Precision (Negative)</th>\n",
       "      <th>Recall (Negative)</th>\n",
       "      <th>F1 Score (Negative)</th>\n",
       "      <th>Precision (Neutral)</th>\n",
       "      <th>Recall (Neutral)</th>\n",
       "      <th>F1 Score (Neutral)</th>\n",
       "      <th>Precision (Positive)</th>\n",
       "      <th>Recall (Positive)</th>\n",
       "      <th>F1 Score (Positive)</th>\n",
       "      <th>Train Runtime</th>\n",
       "    </tr>\n",
       "  </thead>\n",
       "  <tbody>\n",
       "    <tr>\n",
       "      <th>0</th>\n",
       "      <td>PEFT Model V1</td>\n",
       "      <td>0.541809</td>\n",
       "      <td>0.873534</td>\n",
       "      <td>0.770308</td>\n",
       "      <td>0.792507</td>\n",
       "      <td>0.78125</td>\n",
       "      <td>0.914122</td>\n",
       "      <td>0.917625</td>\n",
       "      <td>0.91587</td>\n",
       "      <td>0.814815</td>\n",
       "      <td>0.787368</td>\n",
       "      <td>0.800857</td>\n",
       "      <td>24.4521</td>\n",
       "    </tr>\n",
       "  </tbody>\n",
       "</table>\n",
       "</div>"
      ],
      "text/plain": [
       "           Model      Loss  Accuracy  Precision (Negative)  Recall (Negative)  \\\n",
       "0  PEFT Model V1  0.541809  0.873534              0.770308           0.792507   \n",
       "\n",
       "   F1 Score (Negative)  Precision (Neutral)  Recall (Neutral)  \\\n",
       "0              0.78125             0.914122          0.917625   \n",
       "\n",
       "   F1 Score (Neutral)  Precision (Positive)  Recall (Positive)  \\\n",
       "0             0.91587              0.814815           0.787368   \n",
       "\n",
       "   F1 Score (Positive)  Train Runtime  \n",
       "0             0.800857        24.4521  "
      ]
     },
     "execution_count": 21,
     "metadata": {},
     "output_type": "execute_result"
    }
   ],
   "source": [
    "results_df_peft_v1 = create_results_dataframe(results,\"PEFT Model V1\")\n",
    "results_df_peft_v1"
   ]
  },
  {
   "cell_type": "markdown",
   "id": "d9980343-dad2-4402-bf42-9338eb6d259d",
   "metadata": {},
   "source": [
    "### Peft v2 Evaluation"
   ]
  },
  {
   "cell_type": "code",
   "execution_count": 22,
   "id": "92d83a56-7e7b-47c6-9c9e-730f3daf4969",
   "metadata": {},
   "outputs": [
    {
     "data": {
      "text/html": [
       "\n",
       "    <div>\n",
       "      \n",
       "      <progress value='299' max='299' style='width:300px; height:20px; vertical-align: middle;'></progress>\n",
       "      [299/299 00:24]\n",
       "    </div>\n",
       "    "
      ],
      "text/plain": [
       "<IPython.core.display.HTML object>"
      ]
     },
     "metadata": {},
     "output_type": "display_data"
    }
   ],
   "source": [
    "model_path = \"./data/peft_model_v2\"\n",
    "peft_model = AutoModelForSequenceClassification.from_pretrained(model_path)\n",
    "\n",
    "peft_training_args = TrainingArguments(\n",
    "    output_dir=\"./data/peft_training_v2\",\n",
    "    learning_rate=2e-5,\n",
    "    per_device_train_batch_size=8,\n",
    "    per_device_eval_batch_size=8,\n",
    "    num_train_epochs=3,\n",
    "    weight_decay=0.05,\n",
    "    logging_dir='./logs/model/peft_model_v1',\n",
    "    logging_steps=10,\n",
    ")\n",
    "\n",
    "peft_trainer = Trainer(\n",
    "    model=peft_model,\n",
    "    args=peft_training_args,\n",
    "    train_dataset=tokenized_datasets['train'],\n",
    "    eval_dataset=tokenized_datasets['validation'],  # Use 'test' split as validation\n",
    "    tokenizer=tokenizer,\n",
    "    compute_metrics=compute_metrics\n",
    ")\n",
    "\n",
    "# Evaluate the model\n",
    "results = peft_trainer.evaluate()"
   ]
  },
  {
   "cell_type": "code",
   "execution_count": 23,
   "id": "b854fb46-bc14-4caf-8eb8-485e44abb21e",
   "metadata": {},
   "outputs": [
    {
     "data": {
      "text/html": [
       "<div>\n",
       "<style scoped>\n",
       "    .dataframe tbody tr th:only-of-type {\n",
       "        vertical-align: middle;\n",
       "    }\n",
       "\n",
       "    .dataframe tbody tr th {\n",
       "        vertical-align: top;\n",
       "    }\n",
       "\n",
       "    .dataframe thead th {\n",
       "        text-align: right;\n",
       "    }\n",
       "</style>\n",
       "<table border=\"1\" class=\"dataframe\">\n",
       "  <thead>\n",
       "    <tr style=\"text-align: right;\">\n",
       "      <th></th>\n",
       "      <th>Model</th>\n",
       "      <th>Loss</th>\n",
       "      <th>Accuracy</th>\n",
       "      <th>Precision (Negative)</th>\n",
       "      <th>Recall (Negative)</th>\n",
       "      <th>F1 Score (Negative)</th>\n",
       "      <th>Precision (Neutral)</th>\n",
       "      <th>Recall (Neutral)</th>\n",
       "      <th>F1 Score (Neutral)</th>\n",
       "      <th>Precision (Positive)</th>\n",
       "      <th>Recall (Positive)</th>\n",
       "      <th>F1 Score (Positive)</th>\n",
       "      <th>Train Runtime</th>\n",
       "    </tr>\n",
       "  </thead>\n",
       "  <tbody>\n",
       "    <tr>\n",
       "      <th>0</th>\n",
       "      <td>PEFT Model V2</td>\n",
       "      <td>0.608422</td>\n",
       "      <td>0.872697</td>\n",
       "      <td>0.768156</td>\n",
       "      <td>0.792507</td>\n",
       "      <td>0.780142</td>\n",
       "      <td>0.914013</td>\n",
       "      <td>0.916347</td>\n",
       "      <td>0.915179</td>\n",
       "      <td>0.813043</td>\n",
       "      <td>0.787368</td>\n",
       "      <td>0.8</td>\n",
       "      <td>24.7862</td>\n",
       "    </tr>\n",
       "  </tbody>\n",
       "</table>\n",
       "</div>"
      ],
      "text/plain": [
       "           Model      Loss  Accuracy  Precision (Negative)  Recall (Negative)  \\\n",
       "0  PEFT Model V2  0.608422  0.872697              0.768156           0.792507   \n",
       "\n",
       "   F1 Score (Negative)  Precision (Neutral)  Recall (Neutral)  \\\n",
       "0             0.780142             0.914013          0.916347   \n",
       "\n",
       "   F1 Score (Neutral)  Precision (Positive)  Recall (Positive)  \\\n",
       "0            0.915179              0.813043           0.787368   \n",
       "\n",
       "   F1 Score (Positive)  Train Runtime  \n",
       "0                  0.8        24.7862  "
      ]
     },
     "execution_count": 23,
     "metadata": {},
     "output_type": "execute_result"
    }
   ],
   "source": [
    "results_df_peft_v2 = create_results_dataframe(results,\"PEFT Model V2\")\n",
    "results_df_peft_v2"
   ]
  },
  {
   "cell_type": "markdown",
   "id": "b4d5afee-f61f-4c88-af12-49b39c0ad0a4",
   "metadata": {},
   "source": [
    "## Analysis and Model evaluation"
   ]
  },
  {
   "cell_type": "code",
   "execution_count": 24,
   "id": "46f3655e-c1ae-4eae-8b95-7acc7388852e",
   "metadata": {},
   "outputs": [],
   "source": [
    "result_df = pd.concat([results_df_finetuned, results_df_peft_v1, results_df_peft_v2])"
   ]
  },
  {
   "cell_type": "code",
   "execution_count": 30,
   "id": "936ba237-3877-417a-b4de-066b5ac06727",
   "metadata": {
    "scrolled": true
   },
   "outputs": [
    {
     "data": {
      "text/html": [
       "<div>\n",
       "<style scoped>\n",
       "    .dataframe tbody tr th:only-of-type {\n",
       "        vertical-align: middle;\n",
       "    }\n",
       "\n",
       "    .dataframe tbody tr th {\n",
       "        vertical-align: top;\n",
       "    }\n",
       "\n",
       "    .dataframe thead th {\n",
       "        text-align: right;\n",
       "    }\n",
       "</style>\n",
       "<table border=\"1\" class=\"dataframe\">\n",
       "  <thead>\n",
       "    <tr style=\"text-align: right;\">\n",
       "      <th></th>\n",
       "      <th>Model</th>\n",
       "      <th>Loss</th>\n",
       "      <th>Accuracy</th>\n",
       "      <th>Precision (Negative)</th>\n",
       "      <th>Recall (Negative)</th>\n",
       "      <th>F1 Score (Negative)</th>\n",
       "      <th>Precision (Neutral)</th>\n",
       "      <th>Recall (Neutral)</th>\n",
       "      <th>F1 Score (Neutral)</th>\n",
       "      <th>Precision (Positive)</th>\n",
       "      <th>Recall (Positive)</th>\n",
       "      <th>F1 Score (Positive)</th>\n",
       "      <th>Train Runtime</th>\n",
       "    </tr>\n",
       "  </thead>\n",
       "  <tbody>\n",
       "    <tr>\n",
       "      <th>0</th>\n",
       "      <td>Fine-Tuned Model</td>\n",
       "      <td>0.525072</td>\n",
       "      <td>0.871441</td>\n",
       "      <td>0.765363</td>\n",
       "      <td>0.789625</td>\n",
       "      <td>0.777305</td>\n",
       "      <td>0.912794</td>\n",
       "      <td>0.915709</td>\n",
       "      <td>0.914249</td>\n",
       "      <td>0.812636</td>\n",
       "      <td>0.785263</td>\n",
       "      <td>0.798715</td>\n",
       "      <td>22.6798</td>\n",
       "    </tr>\n",
       "    <tr>\n",
       "      <th>0</th>\n",
       "      <td>PEFT Model V1</td>\n",
       "      <td>0.541809</td>\n",
       "      <td>0.873534</td>\n",
       "      <td>0.770308</td>\n",
       "      <td>0.792507</td>\n",
       "      <td>0.781250</td>\n",
       "      <td>0.914122</td>\n",
       "      <td>0.917625</td>\n",
       "      <td>0.915870</td>\n",
       "      <td>0.814815</td>\n",
       "      <td>0.787368</td>\n",
       "      <td>0.800857</td>\n",
       "      <td>24.4521</td>\n",
       "    </tr>\n",
       "    <tr>\n",
       "      <th>0</th>\n",
       "      <td>PEFT Model V2</td>\n",
       "      <td>0.608422</td>\n",
       "      <td>0.872697</td>\n",
       "      <td>0.768156</td>\n",
       "      <td>0.792507</td>\n",
       "      <td>0.780142</td>\n",
       "      <td>0.914013</td>\n",
       "      <td>0.916347</td>\n",
       "      <td>0.915179</td>\n",
       "      <td>0.813043</td>\n",
       "      <td>0.787368</td>\n",
       "      <td>0.800000</td>\n",
       "      <td>24.7862</td>\n",
       "    </tr>\n",
       "  </tbody>\n",
       "</table>\n",
       "</div>"
      ],
      "text/plain": [
       "              Model      Loss  Accuracy  Precision (Negative)  \\\n",
       "0  Fine-Tuned Model  0.525072  0.871441              0.765363   \n",
       "0     PEFT Model V1  0.541809  0.873534              0.770308   \n",
       "0     PEFT Model V2  0.608422  0.872697              0.768156   \n",
       "\n",
       "   Recall (Negative)  F1 Score (Negative)  Precision (Neutral)  \\\n",
       "0           0.789625             0.777305             0.912794   \n",
       "0           0.792507             0.781250             0.914122   \n",
       "0           0.792507             0.780142             0.914013   \n",
       "\n",
       "   Recall (Neutral)  F1 Score (Neutral)  Precision (Positive)  \\\n",
       "0          0.915709            0.914249              0.812636   \n",
       "0          0.917625            0.915870              0.814815   \n",
       "0          0.916347            0.915179              0.813043   \n",
       "\n",
       "   Recall (Positive)  F1 Score (Positive)  Train Runtime  \n",
       "0           0.785263             0.798715        22.6798  \n",
       "0           0.787368             0.800857        24.4521  \n",
       "0           0.787368             0.800000        24.7862  "
      ]
     },
     "execution_count": 30,
     "metadata": {},
     "output_type": "execute_result"
    }
   ],
   "source": [
    "result_df"
   ]
  },
  {
   "cell_type": "code",
   "execution_count": 41,
   "id": "91260ddf-d336-4133-a090-486ab303c59d",
   "metadata": {},
   "outputs": [
    {
     "data": {
      "image/png": "[encoded data removed]",
      "text/plain": [
       "<Figure size 2500x1000 with 6 Axes>"
      ]
     },
     "metadata": {},
     "output_type": "display_data"
    }
   ],
   "source": [
    "plot_model_metrics(result_df)"
   ]
  },
  {
   "cell_type": "markdown",
   "id": "3041bbe7-8fef-4d73-a632-f20fcb411ed1",
   "metadata": {},
   "source": [
    "Conclusion:\n",
    "- Considering all metrics, PEFT Model V1 stands out as the best model. It has the highest accuracy, best overall precision, recall, and F1 scores across all categories (Negative, Neutral, Positive). Although it has a slightly higher loss than the Fine-Tuned Model and longer training time, the improvement in other critical performance metrics justifies its selection as the best model.\n",
    "\n",
    "Therefore, PEFT Model V1 is considered the best model based on the provided metrics."
   ]
  },
  {
   "cell_type": "markdown",
   "id": "db5aa5c7-aa7c-43b2-bcbc-2ec493c6c658",
   "metadata": {},
   "source": [
    "## Inference\n"
   ]
  },
  {
   "cell_type": "code",
   "execution_count": 42,
   "id": "afeb7288-5c0e-4f17-a401-810158764559",
   "metadata": {},
   "outputs": [
    {
     "name": "stderr",
     "output_type": "stream",
     "text": [
      "Some weights of DistilBertForSequenceClassification were not initialized from the model checkpoint at distilbert-base-cased and are newly initialized: ['classifier.bias', 'classifier.weight', 'pre_classifier.bias', 'pre_classifier.weight']\n",
      "You should probably TRAIN this model on a down-stream task to be able to use it for predictions and inference.\n"
     ]
    }
   ],
   "source": [
    "fine_tuned_model_path='./data/model'\n",
    "peft_v1_model_path='./data/peft_model_v1'\n",
    "peft_v2_model_path='./data/peft_model_v2'\n",
    "\n",
    "base_model = AutoModelForSequenceClassification.from_pretrained('distilbert-base-cased', num_labels=3)\n",
    "fine_tuned_model = AutoModelForSequenceClassification.from_pretrained(fine_tuned_model_path, num_labels=3)\n",
    "peft_v1_model = AutoModelForSequenceClassification.from_pretrained(peft_v1_model_path, num_labels=3)\n",
    "peft_v2_model= AutoModelForSequenceClassification.from_pretrained(peft_v2_model_path, num_labels=3)"
   ]
  },
  {
   "cell_type": "code",
   "execution_count": 43,
   "id": "401b8b0b-b4b8-4367-a985-0cf016c92e52",
   "metadata": {},
   "outputs": [],
   "source": [
    "sample_text = \"nomura points to bookings weakness at carnival and royal caribbean\""
   ]
  },
  {
   "cell_type": "code",
   "execution_count": 44,
   "id": "3d0b782a-7be5-475a-ab6a-90575b00a8c5",
   "metadata": {},
   "outputs": [],
   "source": [
    "original_prediction = infer(base_model, tokenizer, sample_text)\n",
    "fine_tuned_prediction = infer(fine_tuned_model, tokenizer, sample_text)\n",
    "peftv1_prediction = infer(peft_v1_model, tokenizer, sample_text)\n",
    "peftv2_prediction = infer(peft_v2_model, tokenizer, sample_text)"
   ]
  },
  {
   "cell_type": "code",
   "execution_count": 45,
   "id": "19d40566-8e23-40f7-98fd-cd28d61fc51e",
   "metadata": {},
   "outputs": [
    {
     "name": "stdout",
     "output_type": "stream",
     "text": [
      "Prediction from original model: 2\n",
      "Prediction from fine-tuned model: 0\n",
      "Prediction from peft_v1 model: 0\n",
      "Prediction from peft_v2 model: 0\n"
     ]
    }
   ],
   "source": [
    "print(f\"Prediction from original model: {original_prediction}\")\n",
    "print(f\"Prediction from fine-tuned model: {fine_tuned_prediction}\")\n",
    "print(f\"Prediction from peft_v1 model: {peftv1_prediction}\")\n",
    "print(f\"Prediction from peft_v2 model: {peftv2_prediction}\")"
   ]
  },
  {
   "cell_type": "code",
   "execution_count": 54,
   "id": "26c87751-ef82-4190-9124-b389462a62dc",
   "metadata": {},
   "outputs": [
    {
     "data": {
      "text/plain": [
       "0       bynd  jpmorgan reels in expectations on beyond...\n",
       "1       ccl rcl  nomura points to bookings weakness at...\n",
       "2       cx  cemex cut at credit suisse jp morgan on we...\n",
       "3       ess btig research cuts to neutral httpstcomcyf...\n",
       "4       fnko  funko slides after piper jaffray pt cut ...\n",
       "                              ...                        \n",
       "9538    the weeks gainers and losers on the stoxx euro...\n",
       "9539    tupperware brands among consumer gainers unile...\n",
       "9540    vtv therapeutics leads healthcare gainers myom...\n",
       "9541        work xpo pyx and amkr among after hour movers\n",
       "9542                 yndx i qd and oesx among tech movers\n",
       "Name: text, Length: 9543, dtype: object"
      ]
     },
     "execution_count": 54,
     "metadata": {},
     "output_type": "execute_result"
    }
   ],
   "source": [
    "train_df['text']"
   ]
  },
  {
   "cell_type": "markdown",
   "id": "cbc97b64-3802-4c35-a0cd-f9e1bee0e242",
   "metadata": {},
   "source": [
    "The results from the predictions indicate that all the models except the original one successfully captured the correct label. Specifically, the fine-tuned model, PEFT Model V1, and PEFT Model V2 all predicted the label as 0, demonstrating their accuracy and effectiveness in identifying the correct classification. In contrast, the original model predicted the label as 2, which is incorrect. This discrepancy highlights the significant improvements and enhanced performance achieved through fine-tuning and applying parameter-efficient fine-tuning (PEFT) techniques. These refined models have evidently managed to better understand the underlying patterns and nuances of the data, thereby providing more accurate predictions compared to the original, unrefined model.\n",
    "\n",
    "\n",
    "\n",
    "\n",
    "\n",
    "\n"
   ]
  }
 ],
 "metadata": {
  "kernelspec": {
   "display_name": "Python 3 (ipykernel)",
   "language": "python",
   "name": "python3"
  },
  "language_info": {
   "codemirror_mode": {
    "name": "ipython",
    "version": 3
   },
   "file_extension": ".py",
   "mimetype": "text/x-python",
   "name": "python",
   "nbconvert_exporter": "python",
   "pygments_lexer": "ipython3",
   "version": "3.10.6"
  }
 },
 "nbformat": 4,
 "nbformat_minor": 5
}
